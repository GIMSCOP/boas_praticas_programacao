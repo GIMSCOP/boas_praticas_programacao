{
 "cells": [
  {
   "cell_type": "markdown",
   "id": "886be7be",
   "metadata": {
    "slideshow": {
     "slide_type": "slide"
    }
   },
   "source": [
    "# Boas práticas de programação"
   ]
  },
  {
   "cell_type": "markdown",
   "id": "6f6bb12d",
   "metadata": {
    "slideshow": {
     "slide_type": "slide"
    }
   },
   "source": [
    "## Introdução"
   ]
  },
  {
   "cell_type": "markdown",
   "id": "331b4dd8",
   "metadata": {
    "slideshow": {
     "slide_type": "subslide"
    }
   },
   "source": [
    "## Objetivo\n",
    "* Ensinar práticas de programação que auxiliam no melhor desenvolvimento, colaboração e manutenção dos códigos.\n"
   ]
  },
  {
   "cell_type": "markdown",
   "id": "9d5abea0",
   "metadata": {
    "slideshow": {
     "slide_type": "subslide"
    }
   },
   "source": [
    "## Ganhos\n",
    "* Padronização\n",
    "* Evitar erros ou torná-los mais fácil de corrigir\n",
    "* Manter velocidade no desenvolvimento\n",
    "* Facilitar a colaboração e compartilhamento\n",
    "* Facilitar que os nossos códigos cheguem em uma aplicação real"
   ]
  },
  {
   "cell_type": "markdown",
   "id": "c020eaee",
   "metadata": {
    "slideshow": {
     "slide_type": "subslide"
    }
   },
   "source": [
    "## Para quem\n",
    "* Programadores em Python, que buscam melhorar o desenvolvimento em projetos.\n"
   ]
  },
  {
   "cell_type": "markdown",
   "id": "197443ee",
   "metadata": {
    "slideshow": {
     "slide_type": "subslide"
    }
   },
   "source": [
    "## Conteúdo\n",
    "* 05/06 - Teórico\n",
    "    * Código limpo\n",
    "    * Ambientes virtuais\n",
    "    * IDEs\n",
    "    * Git\n",
    "    * Dicas finais\n",
    "* Prática\n",
    "    * Apresentação e discussões"
   ]
  },
  {
   "cell_type": "markdown",
   "id": "c1a4cf68",
   "metadata": {
    "slideshow": {
     "slide_type": "subslide"
    }
   },
   "source": [
    "## Prática\n",
    "* Escolher um código desenvolvido por vocês e modificá-lo com o objetivo de aplicar ao máximo o que aprendemos.\n"
   ]
  },
  {
   "cell_type": "markdown",
   "id": "8ac591d6",
   "metadata": {
    "slideshow": {
     "slide_type": "subslide"
    }
   },
   "source": [
    "## Professor\n",
    "* Comecei com o Python em 2015 - mestrado\n",
    "* CEO Latos\n",
    "* Pós-doc GIMSCOP"
   ]
  },
  {
   "cell_type": "markdown",
   "id": "f0465300",
   "metadata": {
    "slideshow": {
     "slide_type": "slide"
    }
   },
   "source": [
    "## Código limpo"
   ]
  },
  {
   "cell_type": "markdown",
   "id": "b1d30c2b",
   "metadata": {
    "slideshow": {
     "slide_type": "subslide"
    }
   },
   "source": [
    "![Clean code](images/clean_code.png)\n"
   ]
  },
  {
   "cell_type": "markdown",
   "id": "4da0ef26",
   "metadata": {
    "slideshow": {
     "slide_type": "subslide"
    }
   },
   "source": [
    "### Siga o guia de estilo PEP 8\n",
    "[PEP 8](https://peps.python.org/pep-0008/) é um documento que detalha as convenções de estilo para o código Python. Siga-o para manter a consistência e legibilidade do seu código. "
   ]
  },
  {
   "cell_type": "code",
   "execution_count": 1,
   "id": "4f059315",
   "metadata": {
    "slideshow": {
     "slide_type": "-"
    }
   },
   "outputs": [],
   "source": [
    "# Errado\n",
    "def some_function(value1,value2):\n",
    "    return value1*value2"
   ]
  },
  {
   "cell_type": "code",
   "execution_count": 2,
   "id": "f11ab199",
   "metadata": {
    "slideshow": {
     "slide_type": "-"
    }
   },
   "outputs": [],
   "source": [
    "# Certo\n",
    "def some_function(value1, value2):\n",
    "    return value1 * value2"
   ]
  },
  {
   "cell_type": "markdown",
   "id": "6394147b",
   "metadata": {
    "slideshow": {
     "slide_type": "subslide"
    }
   },
   "source": [
    "### Nomeie variáveis e funções de maneira descritiva\n",
    "Nomes descritivos tornam o código mais legível e autoexplicativo."
   ]
  },
  {
   "cell_type": "code",
   "execution_count": 3,
   "id": "56feaefb",
   "metadata": {},
   "outputs": [],
   "source": [
    "# Errado\n",
    "def f(x):\n",
    "    return x**2"
   ]
  },
  {
   "cell_type": "code",
   "execution_count": 4,
   "id": "cc9d58a8",
   "metadata": {},
   "outputs": [],
   "source": [
    "# Certo\n",
    "def square(number):\n",
    "    return number ** 2"
   ]
  },
  {
   "cell_type": "markdown",
   "id": "08926e9e",
   "metadata": {},
   "source": [
    "Exemplo na nossa área."
   ]
  },
  {
   "cell_type": "code",
   "execution_count": 5,
   "id": "dba6cf97",
   "metadata": {
    "slideshow": {
     "slide_type": "subslide"
    }
   },
   "outputs": [],
   "source": [
    "# Errado\n",
    "def vst1(ve1t1_1, ve2t2):\n",
    "    return ve1t1_1 + ve2t2"
   ]
  },
  {
   "cell_type": "code",
   "execution_count": 6,
   "id": "770b4a4b",
   "metadata": {},
   "outputs": [],
   "source": [
    "# Certo\n",
    "def vazao_saida_tanque_1(vazao_entrada_1_tanque_1, vazao_entrada_2_tanque_1):\n",
    "    return vazao_entrada_1_tanque_1 + vazao_entrada_2_tanque_1"
   ]
  },
  {
   "cell_type": "markdown",
   "id": "ee6958be",
   "metadata": {
    "slideshow": {
     "slide_type": "subslide"
    }
   },
   "source": [
    "### Mantenha o código DRY (Don't Repeat Yourself):\n",
    "Se estiver repetindo o mesmo código em várias partes do seu programa, considere colocar esse código em uma função ou método."
   ]
  },
  {
   "cell_type": "code",
   "execution_count": 7,
   "id": "c2abdea0",
   "metadata": {},
   "outputs": [
    {
     "name": "stdout",
     "output_type": "stream",
     "text": [
      "Hello, user!\n",
      "Hello, admin!\n"
     ]
    }
   ],
   "source": [
    "# Errado\n",
    "print(\"Hello, user!\")\n",
    "print(\"Hello, admin!\")"
   ]
  },
  {
   "cell_type": "code",
   "execution_count": 8,
   "id": "67b75735",
   "metadata": {},
   "outputs": [
    {
     "name": "stdout",
     "output_type": "stream",
     "text": [
      "Hello, user!\n",
      "Hello, admin!\n"
     ]
    }
   ],
   "source": [
    "# Certo\n",
    "def greet(user):\n",
    "    print(f\"Hello, {user}!\")\n",
    "\n",
    "greet(\"user\")\n",
    "greet(\"admin\")"
   ]
  },
  {
   "cell_type": "markdown",
   "id": "5b941c9b",
   "metadata": {
    "slideshow": {
     "slide_type": "subslide"
    }
   },
   "source": [
    "### Dividir o código em funções ou métodos menores\n",
    "\n",
    "Funções ou métodos devem fazer apenas uma coisa e fazer bem. Eles não devem ser muito longos e devem ter um nome descritivo que reflita o que eles fazem."
   ]
  },
  {
   "cell_type": "code",
   "execution_count": 9,
   "id": "3d659eda",
   "metadata": {},
   "outputs": [],
   "source": [
    "# Errado\n",
    "def arithmetic_operations(x, y):\n",
    "    print(\"Addition:\", x + y)\n",
    "    print(\"Subtraction:\", x - y)\n",
    "    print(\"Multiplication:\", x * y)\n",
    "    print(\"Division:\", x / y)"
   ]
  },
  {
   "cell_type": "code",
   "execution_count": 10,
   "id": "f84d5e1e",
   "metadata": {
    "slideshow": {
     "slide_type": "subslide"
    }
   },
   "outputs": [
    {
     "name": "stdout",
     "output_type": "stream",
     "text": [
      "Addition: 8\n",
      "Subtraction: 2\n",
      "Multiplication: 15\n",
      "Division: 1.6666666666666667\n"
     ]
    }
   ],
   "source": [
    "# Certo\n",
    "def add(x, y):\n",
    "    return x + y\n",
    "\n",
    "def subtract(x, y):\n",
    "    return x - y\n",
    "\n",
    "def multiply(x, y):\n",
    "    return x * y\n",
    "\n",
    "def divide(x, y):\n",
    "    return x / y\n",
    "\n",
    "print(\"Addition:\", add(5, 3))\n",
    "print(\"Subtraction:\", subtract(5, 3))\n",
    "print(\"Multiplication:\", multiply(5, 3))\n",
    "print(\"Division:\", divide(5, 3))"
   ]
  },
  {
   "cell_type": "markdown",
   "id": "91859672",
   "metadata": {
    "slideshow": {
     "slide_type": "subslide"
    }
   },
   "source": [
    "### Documentação e Comentários\n",
    "\n",
    "É importante documentar seu código e também adicionar comentários onde necessário. Isso ajudará outros desenvolvedores (ou até mesmo você, no futuro) a entender o que o código faz."
   ]
  },
  {
   "cell_type": "code",
   "execution_count": 11,
   "id": "64ece654",
   "metadata": {},
   "outputs": [],
   "source": [
    "# Errado\n",
    "def add(x, y):\n",
    "    return x + y"
   ]
  },
  {
   "cell_type": "code",
   "execution_count": 12,
   "id": "e3283dca",
   "metadata": {},
   "outputs": [],
   "source": [
    "# Certo\n",
    "def add(x, y):\n",
    "    \"\"\"\n",
    "    This function takes two numbers as arguments,\n",
    "    and returns their sum.\n",
    "    \n",
    "    Args:\n",
    "        x (int or float): The first number\n",
    "        y (int or float): The second number\n",
    "\n",
    "    Returns:\n",
    "        int or float: The sum of x and y\n",
    "    \"\"\"\n",
    "    return x + y"
   ]
  },
  {
   "cell_type": "markdown",
   "id": "f7c644c2",
   "metadata": {
    "slideshow": {
     "slide_type": "subslide"
    }
   },
   "source": [
    "### Refatoração de código\n",
    "\n",
    "Refatoração é o processo de reestruturar um código existente, alterando a estrutura do código sem alterar seu comportamento. O principal objetivo da refatoração é melhorar a estrutura do código, torná-lo mais limpo e mais eficiente."
   ]
  },
  {
   "cell_type": "code",
   "execution_count": 13,
   "id": "3c66ffe8",
   "metadata": {},
   "outputs": [],
   "source": [
    "# Antes da refatoração\n",
    "def calculate_age(birth_year):\n",
    "    current_year = 2023\n",
    "    age = current_year - birth_year\n",
    "    return age"
   ]
  },
  {
   "cell_type": "code",
   "execution_count": 14,
   "id": "cbeae5a9",
   "metadata": {},
   "outputs": [],
   "source": [
    "# Depois da refatoração\n",
    "from datetime import datetime\n",
    "\n",
    "def calculate_age(birth_year):\n",
    "    current_year = datetime.now().year\n",
    "    return current_year - birth_year\n"
   ]
  },
  {
   "cell_type": "markdown",
   "id": "0fc55142",
   "metadata": {},
   "source": [
    "### Teste o seu código\n",
    "\n",
    "O teste é uma parte muito importante do desenvolvimento de software. Ajuda a identificar bugs e garantir que seu código funcione como esperado. Desenvolva testes para cada função e método que você escrever."
   ]
  },
  {
   "cell_type": "markdown",
   "id": "d0258bdc",
   "metadata": {
    "slideshow": {
     "slide_type": "slide"
    }
   },
   "source": [
    "## Ambientes Virtuais"
   ]
  },
  {
   "cell_type": "code",
   "execution_count": null,
   "id": "f45515a9",
   "metadata": {},
   "outputs": [],
   "source": []
  },
  {
   "cell_type": "code",
   "execution_count": null,
   "id": "226c53fb",
   "metadata": {},
   "outputs": [],
   "source": []
  },
  {
   "cell_type": "markdown",
   "id": "22208694",
   "metadata": {
    "slideshow": {
     "slide_type": "slide"
    }
   },
   "source": [
    "## IDEs"
   ]
  },
  {
   "cell_type": "code",
   "execution_count": null,
   "id": "d0f4475b",
   "metadata": {},
   "outputs": [],
   "source": []
  },
  {
   "cell_type": "code",
   "execution_count": null,
   "id": "0076130d",
   "metadata": {},
   "outputs": [],
   "source": []
  },
  {
   "cell_type": "markdown",
   "id": "fffa142c",
   "metadata": {
    "slideshow": {
     "slide_type": "slide"
    }
   },
   "source": [
    "## GIT"
   ]
  },
  {
   "cell_type": "code",
   "execution_count": null,
   "id": "6a8eaba4",
   "metadata": {},
   "outputs": [],
   "source": []
  },
  {
   "cell_type": "code",
   "execution_count": null,
   "id": "62928638",
   "metadata": {},
   "outputs": [],
   "source": []
  },
  {
   "cell_type": "markdown",
   "id": "9548c54b",
   "metadata": {
    "slideshow": {
     "slide_type": "slide"
    }
   },
   "source": [
    "## Dicas finais"
   ]
  },
  {
   "cell_type": "code",
   "execution_count": null,
   "id": "b3feb8f1",
   "metadata": {},
   "outputs": [],
   "source": []
  },
  {
   "cell_type": "code",
   "execution_count": null,
   "id": "33f5cdbf",
   "metadata": {},
   "outputs": [],
   "source": []
  }
 ],
 "metadata": {
  "celltoolbar": "Slideshow",
  "kernelspec": {
   "display_name": "Python 3 (ipykernel)",
   "language": "python",
   "name": "python3"
  },
  "language_info": {
   "codemirror_mode": {
    "name": "ipython",
    "version": 3
   },
   "file_extension": ".py",
   "mimetype": "text/x-python",
   "name": "python",
   "nbconvert_exporter": "python",
   "pygments_lexer": "ipython3",
   "version": "3.9.6"
  }
 },
 "nbformat": 4,
 "nbformat_minor": 5
}
