{
 "cells": [
  {
   "cell_type": "markdown",
   "id": "886be7be",
   "metadata": {
    "slideshow": {
     "slide_type": "slide"
    }
   },
   "source": [
    "# Boas práticas de programação"
   ]
  },
  {
   "cell_type": "markdown",
   "id": "5f2d8b35",
   "metadata": {
    "slideshow": {
     "slide_type": "slide"
    }
   },
   "source": [
    "## Introdução"
   ]
  },
  {
   "cell_type": "markdown",
   "id": "331b4dd8",
   "metadata": {
    "slideshow": {
     "slide_type": "subslide"
    }
   },
   "source": [
    "## Objetivo\n",
    "* Ensinar práticas de programação que auxiliam no melhor desenvolvimento, colaboração e manutenção dos códigos.\n"
   ]
  },
  {
   "cell_type": "markdown",
   "id": "9d5abea0",
   "metadata": {
    "slideshow": {
     "slide_type": "subslide"
    }
   },
   "source": [
    "## Ganhos\n",
    "* Padronização\n",
    "* Evitar erros ou torná-los mais fácil de corrigir\n",
    "* Manter velocidade no desenvolvimento\n",
    "* Facilitar a colaboração e compartilhamento\n",
    "* Facilitar que os nossos códigos cheguem em uma aplicação real"
   ]
  },
  {
   "cell_type": "markdown",
   "id": "c020eaee",
   "metadata": {
    "slideshow": {
     "slide_type": "subslide"
    }
   },
   "source": [
    "## Para quem\n",
    "* Programadores em Python, que buscam melhorar o desenvolvimento em projetos.\n"
   ]
  },
  {
   "cell_type": "markdown",
   "id": "197443ee",
   "metadata": {
    "slideshow": {
     "slide_type": "subslide"
    }
   },
   "source": [
    "## Conteúdo\n",
    "* Teórico\n",
    "    * Código limpo\n",
    "    * Ambientes virtuais\n",
    "    * IDEs\n",
    "    * Git\n",
    "    * Dicas finais\n",
    "* Prática\n",
    "    * Apresentação e discussões"
   ]
  },
  {
   "cell_type": "markdown",
   "id": "c1a4cf68",
   "metadata": {
    "slideshow": {
     "slide_type": "subslide"
    }
   },
   "source": [
    "## Prática\n",
    "* Escolher um código desenvolvido por vocês e modificá-lo com o objetivo de aplicar ao máximo o que aprendemos.\n"
   ]
  },
  {
   "cell_type": "markdown",
   "id": "c01d8c32",
   "metadata": {
    "slideshow": {
     "slide_type": "subslide"
    }
   },
   "source": [
    "## Professor\n",
    "* Comecei com o Python em 2015 - mestrado\n",
    "* CEO Latos\n",
    "* Pós-doc GIMSCOP"
   ]
  },
  {
   "cell_type": "markdown",
   "id": "f0465300",
   "metadata": {
    "slideshow": {
     "slide_type": "slide"
    }
   },
   "source": [
    "## Código limpo"
   ]
  },
  {
   "cell_type": "markdown",
   "id": "92c89de2",
   "metadata": {
    "slideshow": {
     "slide_type": "subslide"
    }
   },
   "source": [
    "![Clean code](images/clean_code.png)\n"
   ]
  },
  {
   "cell_type": "markdown",
   "id": "fcba55ab",
   "metadata": {
    "slideshow": {
     "slide_type": "subslide"
    }
   },
   "source": [
    "### Siga o guia de estilo PEP 8\n",
    "[PEP 8](https://peps.python.org/pep-0008/) é um documento que detalha as convenções de estilo para o código Python. Siga-o para manter a consistência e legibilidade do seu código. "
   ]
  },
  {
   "cell_type": "code",
   "execution_count": 1,
   "id": "4f059315",
   "metadata": {
    "slideshow": {
     "slide_type": "-"
    }
   },
   "outputs": [],
   "source": [
    "# Errado\n",
    "def some_function(value1,value2):\n",
    "    return value1*value2"
   ]
  },
  {
   "cell_type": "code",
   "execution_count": 2,
   "id": "f11ab199",
   "metadata": {
    "slideshow": {
     "slide_type": "-"
    }
   },
   "outputs": [],
   "source": [
    "# Certo\n",
    "def some_function(value1, value2):\n",
    "    return value1 * value2"
   ]
  },
  {
   "cell_type": "markdown",
   "id": "8a7b512c",
   "metadata": {
    "slideshow": {
     "slide_type": "subslide"
    }
   },
   "source": [
    "### Nomeie variáveis e funções de maneira descritiva\n",
    "Nomes descritivos tornam o código mais legível e autoexplicativo."
   ]
  },
  {
   "cell_type": "code",
   "execution_count": 3,
   "id": "b50f8210",
   "metadata": {},
   "outputs": [],
   "source": [
    "# Errado\n",
    "def f(x):\n",
    "    return x**2"
   ]
  },
  {
   "cell_type": "code",
   "execution_count": 4,
   "id": "67f0bc29",
   "metadata": {},
   "outputs": [],
   "source": [
    "# Certo\n",
    "def square(number):\n",
    "    return number ** 2"
   ]
  },
  {
   "cell_type": "markdown",
   "id": "7a235957",
   "metadata": {},
   "source": [
    "Exemplo na nossa área."
   ]
  },
  {
   "cell_type": "code",
   "execution_count": 5,
   "id": "f0b1cf19",
   "metadata": {
    "slideshow": {
     "slide_type": "subslide"
    }
   },
   "outputs": [],
   "source": [
    "# Errado\n",
    "def vst1(ve1t1_1, ve2t2):\n",
    "    return ve1t1_1 + ve2t2"
   ]
  },
  {
   "cell_type": "code",
   "execution_count": 6,
   "id": "5d6d33bf",
   "metadata": {},
   "outputs": [],
   "source": [
    "# Certo\n",
    "def vazao_saida_tanque_1(vazao_entrada_1_tanque_1, vazao_entrada_2_tanque_1):\n",
    "    return vazao_entrada_1_tanque_1 + vazao_entrada_2_tanque_1"
   ]
  },
  {
   "cell_type": "markdown",
   "id": "cd180af8",
   "metadata": {
    "slideshow": {
     "slide_type": "subslide"
    }
   },
   "source": [
    "### Mantenha o código DRY (Don't Repeat Yourself):\n",
    "Se estiver repetindo o mesmo código em várias partes do seu programa, considere colocar esse código em uma função ou método."
   ]
  },
  {
   "cell_type": "code",
   "execution_count": 7,
   "id": "b221eff0",
   "metadata": {},
   "outputs": [
    {
     "name": "stdout",
     "output_type": "stream",
     "text": [
      "Hello, user!\n",
      "Hello, admin!\n"
     ]
    }
   ],
   "source": [
    "# Errado\n",
    "print(\"Hello, user!\")\n",
    "print(\"Hello, admin!\")"
   ]
  },
  {
   "cell_type": "code",
   "execution_count": 8,
   "id": "14a2b2f0",
   "metadata": {},
   "outputs": [
    {
     "name": "stdout",
     "output_type": "stream",
     "text": [
      "Hello, user!\n",
      "Hello, admin!\n"
     ]
    }
   ],
   "source": [
    "# Certo\n",
    "def greet(user):\n",
    "    print(f\"Hello, {user}!\")\n",
    "\n",
    "greet(\"user\")\n",
    "greet(\"admin\")"
   ]
  },
  {
   "cell_type": "markdown",
   "id": "99a665fa",
   "metadata": {
    "slideshow": {
     "slide_type": "subslide"
    }
   },
   "source": [
    "### Dividir o código em funções ou métodos menores\n",
    "\n",
    "Funções ou métodos devem fazer apenas uma coisa e fazer bem. Eles não devem ser muito longos e devem ter um nome descritivo que reflita o que eles fazem."
   ]
  },
  {
   "cell_type": "code",
   "execution_count": 9,
   "id": "7133918d",
   "metadata": {},
   "outputs": [],
   "source": [
    "# Errado\n",
    "def arithmetic_operations(x, y):\n",
    "    print(\"Addition:\", x + y)\n",
    "    print(\"Subtraction:\", x - y)\n",
    "    print(\"Multiplication:\", x * y)\n",
    "    print(\"Division:\", x / y)"
   ]
  },
  {
   "cell_type": "code",
   "execution_count": 10,
   "id": "c8f8541e",
   "metadata": {
    "slideshow": {
     "slide_type": "subslide"
    }
   },
   "outputs": [
    {
     "name": "stdout",
     "output_type": "stream",
     "text": [
      "Addition: 8\n",
      "Subtraction: 2\n",
      "Multiplication: 15\n",
      "Division: 1.6666666666666667\n"
     ]
    }
   ],
   "source": [
    "# Certo\n",
    "def add(x, y):\n",
    "    return x + y\n",
    "\n",
    "def subtract(x, y):\n",
    "    return x - y\n",
    "\n",
    "def multiply(x, y):\n",
    "    return x * y\n",
    "\n",
    "def divide(x, y):\n",
    "    return x / y\n",
    "\n",
    "print(\"Addition:\", add(5, 3))\n",
    "print(\"Subtraction:\", subtract(5, 3))\n",
    "print(\"Multiplication:\", multiply(5, 3))\n",
    "print(\"Division:\", divide(5, 3))"
   ]
  },
  {
   "cell_type": "markdown",
   "id": "32acb8ff",
   "metadata": {
    "slideshow": {
     "slide_type": "subslide"
    }
   },
   "source": [
    "### Documentação e Comentários\n",
    "\n",
    "É importante documentar seu código e também adicionar comentários onde necessário. Isso ajudará outros desenvolvedores (ou até mesmo você, no futuro) a entender o que o código faz."
   ]
  },
  {
   "cell_type": "code",
   "execution_count": 11,
   "id": "8b7d1bbe",
   "metadata": {},
   "outputs": [],
   "source": [
    "# Errado\n",
    "def add(x, y):\n",
    "    return x + y"
   ]
  },
  {
   "cell_type": "code",
   "execution_count": 12,
   "id": "70bc0b52",
   "metadata": {},
   "outputs": [],
   "source": [
    "# Certo\n",
    "def add(x, y):\n",
    "    \"\"\"\n",
    "    This function takes two numbers as arguments,\n",
    "    and returns their sum.\n",
    "    \n",
    "    Args:\n",
    "        x (int or float): The first number\n",
    "        y (int or float): The second number\n",
    "\n",
    "    Returns:\n",
    "        int or float: The sum of x and y\n",
    "    \"\"\"\n",
    "    return x + y"
   ]
  },
  {
   "cell_type": "markdown",
   "id": "ddd4f313",
   "metadata": {
    "slideshow": {
     "slide_type": "subslide"
    }
   },
   "source": [
    "### Refatoração de código\n",
    "\n",
    "Refatoração é o processo de reestruturar um código existente, alterando a estrutura do código sem alterar seu comportamento. O principal objetivo da refatoração é melhorar a estrutura do código, torná-lo mais limpo e mais eficiente."
   ]
  },
  {
   "cell_type": "code",
   "execution_count": 13,
   "id": "1c4348d3",
   "metadata": {},
   "outputs": [],
   "source": [
    "# Antes da refatoração\n",
    "def calculate_age(birth_year):\n",
    "    current_year = 2023\n",
    "    age = current_year - birth_year\n",
    "    return age"
   ]
  },
  {
   "cell_type": "code",
   "execution_count": 14,
   "id": "e7f196ab",
   "metadata": {},
   "outputs": [],
   "source": [
    "# Depois da refatoração\n",
    "from datetime import datetime\n",
    "\n",
    "def calculate_age(birth_year):\n",
    "    current_year = datetime.now().year\n",
    "    return current_year - birth_year\n"
   ]
  },
  {
   "cell_type": "markdown",
   "id": "fced6585",
   "metadata": {
    "slideshow": {
     "slide_type": "subslide"
    }
   },
   "source": [
    "### Teste o seu código\n",
    "\n",
    "O teste é uma parte muito importante do desenvolvimento de software. Ajuda a identificar bugs e garantir que seu código funcione como esperado. Desenvolva testes para cada função e método que você escrever."
   ]
  },
  {
   "cell_type": "markdown",
   "id": "a94baf90",
   "metadata": {
    "slideshow": {
     "slide_type": "subslide"
    }
   },
   "source": [
    "### Referências\n",
    "\n",
    "1. TestDriven.io: [Clean Code in Python](https://testdriven.io/blog/clean-code-python/)\n",
    "2. Towards Data Science: [Clean Architectures in Python](https://towardsdatascience.com/9-free-quality-resources-to-learn-and-expand-your-python-skills-44e0fe920cf4)\n",
    "3. PyBites: [Tips For Clean Code In Python](https://pybit.es/articles/tips-for-clean-code-in-python/)\n",
    "4. GitHub: [zedr/clean-code-python](https://github.com/zedr/clean-code-python)\n"
   ]
  },
  {
   "cell_type": "markdown",
   "id": "7a741d14",
   "metadata": {
    "slideshow": {
     "slide_type": "slide"
    }
   },
   "source": [
    "## Ambientes Virtuais"
   ]
  },
  {
   "cell_type": "markdown",
   "id": "5044eeb8",
   "metadata": {
    "slideshow": {
     "slide_type": "subslide"
    }
   },
   "source": [
    "### O que é um ambiente virtual\n",
    "\n",
    "* Um ambiente virtual é um ambiente Python isolado que permite que as dependências sejam gerenciadas em nível de projeto. Isso evita conflitos entre pacotes e versões utilizados em diferentes projetos.\n",
    "\n",
    "* Os ambientes virtuais permitem que os desenvolvedores mantenham as dependências de seus projetos organizadas e isoladas, evitando conflitos e tornando mais fácil a reprodução e a distribuição do ambiente de trabalho."
   ]
  },
  {
   "cell_type": "markdown",
   "id": "696d5330",
   "metadata": {
    "slideshow": {
     "slide_type": "subslide"
    }
   },
   "source": [
    "### Problemas sem Ambientes Virtuais\n",
    "\n",
    "Sem ambientes virtuais, as dependências são instaladas globalmente, o que pode levar a conflitos entre as versões dos pacotes necessários para diferentes projetos. Além disso, pode ser difícil replicar o ambiente de desenvolvimento, o que pode levar a problemas quando o projeto é compartilhado com outros desenvolvedores ou movido para produção."
   ]
  },
  {
   "cell_type": "markdown",
   "id": "f30b567a",
   "metadata": {
    "slideshow": {
     "slide_type": "subslide"
    }
   },
   "source": [
    "### Como criar um Ambiente Virtual\n",
    "\n",
    "A criação de um ambiente virtual é simples e pode ser feita usando o módulo `venv`, que vem pré-instalado com Python 3.5 e versões posteriores. Para criar um ambiente virtual, simplesmente execute o comando:\n",
    "\n",
    "`python3 -m venv nome_do_ambiente`"
   ]
  },
  {
   "cell_type": "markdown",
   "id": "b03ea52e",
   "metadata": {
    "slideshow": {
     "slide_type": "subslide"
    }
   },
   "source": [
    "### Ativando e Desativando o Ambiente Virtual\n",
    "\n",
    "Ativação:\n",
    "* Para começar a usar o ambiente virtual e instalar pacotes nele, primeiro você precisa ativá-lo. No terminal, use o comando `source nome_do_ambiente/bin/activate`\n",
    "\n",
    "Desativação:\n",
    "* Quando terminar de trabalhar no ambiente virtual, você pode desativá-lo usando o comando `deactivate`."
   ]
  },
  {
   "cell_type": "markdown",
   "id": "a8975ea8",
   "metadata": {
    "slideshow": {
     "slide_type": "subslide"
    }
   },
   "source": [
    "### Instalando Pacotes no Ambiente Virtual\n",
    "\n",
    "Com o ambiente virtual ativado, você pode instalar pacotes usando `pip`, da mesma forma que faria globalmente. No entanto, agora os pacotes serão isolados dentro do ambiente virtual.\n",
    "\n",
    "Exemplo de código:\n",
    "`pip install numpy`"
   ]
  },
  {
   "cell_type": "markdown",
   "id": "72a7b8ff",
   "metadata": {
    "slideshow": {
     "slide_type": "subslide"
    }
   },
   "source": [
    "### Referências\n",
    "\n",
    "1. Real Python: [Python Virtual Environments: A Primer](https://realpython.com/python-virtual-environments-a-primer/)\n",
    "2. ProgramWithUs: [Pip and virtualenv on a Mac](https://programwithus.com/learn/python/pip-virtualenv-mac)\n",
    "3. Dataquest: [A Complete Guide to Python Virtual Environments](https://www.dataquest.io/blog/a-complete-guide-to-python-virtual-environments/)\n",
    "4. Educative.io: [How to create a virtual environment in Python](https://www.educative.io/answers/how-to-create-a-virtual-environment-in-python)\n",
    "5. freeCodeCamp: [Python Virtual Environments Explained with Examples](https://www.freecodecamp.org/news/python-virtual-environments-explained-with-examples/)\n"
   ]
  },
  {
   "cell_type": "markdown",
   "id": "e6878e44",
   "metadata": {
    "slideshow": {
     "slide_type": "slide"
    }
   },
   "source": [
    "## IDEs"
   ]
  },
  {
   "cell_type": "markdown",
   "id": "d4fd15b5",
   "metadata": {
    "slideshow": {
     "slide_type": "subslide"
    }
   },
   "source": [
    "### O que é uma IDE?\n",
    "\n",
    "* IDE é a sigla para Integrated Development Environment, ou Ambiente de Desenvolvimento Integrado. É um aplicativo que fornece ferramentas abrangentes para facilitar o desenvolvimento de software.\n"
   ]
  },
  {
   "cell_type": "markdown",
   "id": "12fd1190",
   "metadata": {
    "slideshow": {
     "slide_type": "subslide"
    }
   },
   "source": [
    "### Por que usar uma IDE?\n",
    "\n",
    "\n",
    "1. **Autocompletar:** A IDE sugere nomes de variáveis, funções, classes e pacotes automaticamente enquanto você digita, economizando tempo e reduzindo a possibilidade de erros de digitação.\n",
    "\n",
    "2. **Depuração Integrada:** As IDEs vêm com depuradores que permitem acompanhar a execução do seu código passo a passo, o que facilita a identificação e correção de erros.\n",
    "\n",
    "3. **Realce de sintaxe:** A IDE ajuda a identificar elementos do código (como palavras-chave, variáveis, strings, etc.) com cores diferentes, facilitando a leitura e a compreensão do código.\n",
    "\n",
    "4. **Detecção de erros em tempo real:** Algumas IDEs alertam sobre erros de sintaxe ou possíveis problemas no código à medida que você digita.\n",
    "\n",
    "5. **Integração com ferramentas de controle de versão:** A maioria das IDEs tem integração direta com ferramentas de controle de versão como Git, permitindo que você faça commits, pull e push sem sair da IDE.\n",
    "\n",
    "6. **Facilidade de refatoração:** Muitas IDEs possuem ferramentas para ajudar na refatoração do código, como a renomeação de variáveis ou métodos em todo o projeto de uma só vez.\n"
   ]
  },
  {
   "cell_type": "markdown",
   "id": "68996217",
   "metadata": {
    "slideshow": {
     "slide_type": "subslide"
    }
   },
   "source": [
    "### IDEs populares para Python\n",
    "\n",
    "* PyCharm\n",
    "* Visual Studio Code\n",
    "* Spyder\n",
    "* Jupyter Notebook"
   ]
  },
  {
   "cell_type": "markdown",
   "id": "22beefb9",
   "metadata": {
    "slideshow": {
     "slide_type": "subslide"
    }
   },
   "source": [
    "### Comparação\n",
    "\n",
    "| Característica | PyCharm | Visual Studio Code | Spyder | Jupyter Notebook |\n",
    "| --- | --- | --- | --- | --- |\n",
    "| **Autocompletar** | Sim | Sim | Sim | Parcial |\n",
    "| **Depuração Integrada** | Sim | Sim | Sim | Não |\n",
    "| **Integração com Git** | Sim | Sim | Sim | Não |\n",
    "| **Suporte a Jupyter Notebook** | Sim | Sim (com extensão) | Sim | Sim |\n",
    "| **Suporte a Markdown** | Sim | Sim | Não | Sim (em células de texto) |\n",
    "| **Desenvolvimento Web** | Sim | Sim | Não | Não |\n",
    "| **Refatoração de Código** | Sim | Sim (com extensão) | Parcial | Não |\n",
    "| **Terminal Integrado** | Sim | Sim | Sim | Sim |\n",
    "| **Gratuito** | versão Community | Sim | Sim | Sim |\n",
    "| **Facilidade de Uso** | Moderado | Moderado | Fácil | Fácil |\n",
    "\n"
   ]
  },
  {
   "cell_type": "markdown",
   "id": "314a131a",
   "metadata": {
    "slideshow": {
     "slide_type": "subslide"
    }
   },
   "source": [
    "### Referências\n",
    "\n",
    "1. Real Python: [Python IDEs and Code Editors (Guide)](https://realpython.com/python-ides-code-editors-guide)\n"
   ]
  },
  {
   "cell_type": "markdown",
   "id": "a51a7901",
   "metadata": {
    "slideshow": {
     "slide_type": "slide"
    }
   },
   "source": [
    "## GIT\n",
    "\n",
    "O Git é um sistema de controle de versão amplamente utilizado na programação."
   ]
  },
  {
   "cell_type": "markdown",
   "id": "a2f0dc80",
   "metadata": {
    "slideshow": {
     "slide_type": "subslide"
    }
   },
   "source": [
    "### O que é Controle de Versão?\n",
    "\n",
    "* O controle de versão permite acompanhar e gerenciar alterações feitas em arquivos ao longo do tempo.\n",
    "* Com o Git, é possível rastrear modificações, controlar versões e colaborar em projetos de forma eficiente."
   ]
  },
  {
   "cell_type": "markdown",
   "id": "541a3f2c",
   "metadata": {
    "slideshow": {
     "slide_type": "subslide"
    }
   },
   "source": [
    "### Benefícios do Git\n",
    "\n",
    "O Git traz vários benefícios para o desenvolvimento de software, incluindo:\n",
    "* Controle de versões eficiente;\n",
    "* Rastreamento de alterações;\n",
    "* Colaboração entre desenvolvedores;\n",
    "* Possibilidade de desfazer alterações;\n",
    "* Ramificação e mesclagem simplificadas."
   ]
  },
  {
   "cell_type": "markdown",
   "id": "71a2e974",
   "metadata": {
    "slideshow": {
     "slide_type": "subslide"
    }
   },
   "source": [
    "### Instalando o Git\n",
    "\n",
    "* Para começar a utilizar o Git, é necessário instalá-lo no seu computador.\n",
    "* Acesse o site oficial do Git (https://git-scm.com/) e siga as instruções de instalação adequadas para o seu sistema operacional."
   ]
  },
  {
   "cell_type": "markdown",
   "id": "6e18e215",
   "metadata": {
    "slideshow": {
     "slide_type": "subslide"
    }
   },
   "source": [
    "### Configuração Inicial\n",
    "* Antes de começar a usar o Git, é importante configurar seu nome de usuário e endereço de e-mail.\n",
    "* Isso permitirá que as suas contribuições sejam identificadas corretamente nos registros do Git."
   ]
  },
  {
   "cell_type": "markdown",
   "id": "5026e63a",
   "metadata": {
    "slideshow": {
     "slide_type": "subslide"
    }
   },
   "source": [
    "### Inicializando um Repositório\n",
    "* Um repositório Git é uma pasta que contém todos os arquivos e histórico de versões do seu projeto.\n",
    "* Use o comando git init para criar um novo repositório na pasta desejada."
   ]
  },
  {
   "cell_type": "markdown",
   "id": "95fc4749",
   "metadata": {
    "slideshow": {
     "slide_type": "subslide"
    }
   },
   "source": []
  },
  {
   "cell_type": "markdown",
   "id": "c822b80a",
   "metadata": {
    "slideshow": {
     "slide_type": "slide"
    }
   },
   "source": [
    "## Dicas finais"
   ]
  },
  {
   "cell_type": "markdown",
   "id": "a84a6d2f",
   "metadata": {
    "slideshow": {
     "slide_type": "subslide"
    }
   },
   "source": [
    "### ChatGPT\n",
    "\n",
    "* O ChatGPT é um modelo de linguagem avançado que pode auxiliar na programação, fornecendo sugestões de código, ajudando a depurar problemas e fornecendo explicações de conceitos de programação."
   ]
  },
  {
   "cell_type": "markdown",
   "id": "dcd96364",
   "metadata": {
    "slideshow": {
     "slide_type": "subslide"
    }
   },
   "source": [
    "Usos:\n",
    "\n",
    "1. **Uso básico:** Interaja com perguntas ou solicitações relacionadas à programação. Exemplo: \"Como faço para criar uma lista em Python?\".\n",
    "\n",
    "2. **Sugestões de código:** Peça exemplos de código para obter sugestões práticas. Exemplo: \"Você pode me mostrar um exemplo de função que soma dois números em Python?\".\n",
    "\n",
    "3. **Explicando conceitos:** Solicite explicações sobre conceitos de programação específicos. Exemplo: \"O que é uma lista em Python e como ela funciona?\".\n",
    "\n",
    "4. **Depurando código:** Forneça trechos de código com erros para receber ajuda na identificação e correção dos problemas. Exemplo: \"Estou recebendo um erro 'NameError' ao tentar executar este código. O que pode estar errado?\"."
   ]
  },
  {
   "cell_type": "markdown",
   "id": "225ff53c",
   "metadata": {
    "slideshow": {
     "slide_type": "subslide"
    }
   },
   "source": [
    "5. **Aprendendo novos recursos:** Pergunte sobre como usar recursos específicos, como bibliotecas externas. Exemplo: \"Como faço para usar a biblioteca pandas para manipulação de dados em Python?\".\n",
    "\n",
    "6. **Refatoração de código:** Peça orientações sobre como melhorar ou reestruturar seu código existente. Exemplo: \"Como posso refatorar este trecho de código para torná-lo mais eficiente?\".\n",
    "\n",
    "7. **Discussões sobre melhores práticas:** Peça por compartilhamento de melhores práticas em situações específicas, como nomear variáveis em Python. Exemplo: \"Quais são as melhores práticas para nomear variáveis em Python e por quê?\"."
   ]
  },
  {
   "cell_type": "markdown",
   "id": "3b3fb719",
   "metadata": {
    "slideshow": {
     "slide_type": "subslide"
    }
   },
   "source": [
    "Dicas para melhorar o uso\n",
    "\n",
    "1. **Fornecer contexto relevante**: Ao compartilhar código, forneça apenas a parte relevante para obter ajuda precisa.\n",
    "\n",
    "2. **Explicar o problema claramente**: Forneça detalhes e explique o que você está tentando fazer e qual é o resultado esperado.\n",
    "\n",
    "3. **Atenção ao limite de tokens**: Lembre-se de que há um limite de tokens por solicitação (geralmente 4096). Mantenha as solicitações dentro desse limite.\n",
    "\n",
    "4. **Simplificar a pergunta**: Divida problemas complexos em etapas menores e formule perguntas claras e diretas.\n",
    "\n",
    "**Token** é uma unidade básica de texto em um modelo de linguagem. Pode ser uma letra, um número, uma palavra ou um caractere. Os modelos têm um limite de tokens que podem processar em cada interação. É importante ficar dentro desse limite para obter resultados precisos."
   ]
  }
 ],
 "metadata": {
  "celltoolbar": "Slideshow",
  "kernelspec": {
   "display_name": "Python 3 (ipykernel)",
   "language": "python",
   "name": "python3"
  },
  "language_info": {
   "codemirror_mode": {
    "name": "ipython",
    "version": 3
   },
   "file_extension": ".py",
   "mimetype": "text/x-python",
   "name": "python",
   "nbconvert_exporter": "python",
   "pygments_lexer": "ipython3",
   "version": "3.9.6"
  }
 },
 "nbformat": 4,
 "nbformat_minor": 5
}
