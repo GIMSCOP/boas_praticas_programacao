{
 "cells": [
  {
   "cell_type": "markdown",
   "id": "886be7be",
   "metadata": {
    "slideshow": {
     "slide_type": "slide"
    }
   },
   "source": [
    "<img src=\"images/gimscop.png\" alt=\"GIMSCOP Logo\" width=\"250\">\n",
    "\n",
    "\n",
    "# Good programming practices\n",
    "\n",
    "Python Project Development Essentials: Clean Code, Virtual Environments, IDEs, and Git\n",
    "\n",
    "Instructor: Jônathan Dambros\n",
    "\n",
    "[GItHub Code](https://github.com/GIMSCOP/good_programming_practices)\n",
    "\n"
   ]
  },
  {
   "cell_type": "markdown",
   "id": "5f2d8b35",
   "metadata": {
    "slideshow": {
     "slide_type": "slide"
    }
   },
   "source": [
    "## Introduction\n"
   ]
  },
  {
   "cell_type": "markdown",
   "id": "331b4dd8",
   "metadata": {
    "slideshow": {
     "slide_type": "subslide"
    }
   },
   "source": [
    "## Objective\n",
    "\n",
    "* The objective of the lecture is to provide participants with a comprehensive understanding of good programming practices and essential tools for effective Python project development, including clean code principles, virtual environments, IDEs, and Git.\n"
   ]
  },
  {
   "cell_type": "markdown",
   "id": "9d5abea0",
   "metadata": {
    "slideshow": {
     "slide_type": "subslide"
    }
   },
   "source": [
    "## Benefits\n",
    "\n",
    "- Standardization\n",
    "- Effective version control\n",
    "- Enhanced productivity\n",
    "- Improved code quality\n",
    "- Facilitating collaboration and sharing\n",
    "- Error prevention and easier troubleshooting\n",
    "- Professional skill development\n"
   ]
  },
  {
   "cell_type": "markdown",
   "id": "c020eaee",
   "metadata": {
    "slideshow": {
     "slide_type": "subslide"
    }
   },
   "source": [
    "## Target Audience\n",
    "* Python developers seeking to elevate their project development skills and expand their proficiency in the field."
   ]
  },
  {
   "cell_type": "markdown",
   "id": "197443ee",
   "metadata": {
    "slideshow": {
     "slide_type": "subslide"
    }
   },
   "source": [
    "## Content\n",
    "- Theoretical\n",
    "    - Clean code\n",
    "    - Virtual environments\n",
    "    - IDEs\n",
    "    - Git\n",
    "    - Final tips\n",
    "- Practical\n",
    "    - Presentation and discussions\n"
   ]
  },
  {
   "cell_type": "markdown",
   "id": "c1a4cf68",
   "metadata": {
    "slideshow": {
     "slide_type": "subslide"
    }
   },
   "source": [
    "## Practical\n",
    "* Select a code that you have developed and modify it to apply the concepts and techniques learned to their fullest extent.\n"
   ]
  },
  {
   "cell_type": "markdown",
   "id": "c01d8c32",
   "metadata": {
    "slideshow": {
     "slide_type": "subslide"
    }
   },
   "source": [
    "## Instructor\n",
    "* Started with Python in 2015 - during my master's degree\n",
    "* CEO at Latos\n",
    "* Post-doc at GIMSCOP\n"
   ]
  },
  {
   "cell_type": "markdown",
   "id": "f0465300",
   "metadata": {
    "slideshow": {
     "slide_type": "slide"
    }
   },
   "source": [
    "## Clean Code\n",
    "\n",
    "Clean code is a set of programming principles and practices that prioritize readability, simplicity, and maintainability, resulting in code that is easier to understand, debug, and enhance.\n",
    "\n",
    "<img src=\"images/clean_code.png\" alt=\"Clean code\" width=\"400\">\n"
   ]
  },
  {
   "cell_type": "markdown",
   "id": "92c89de2",
   "metadata": {
    "slideshow": {
     "slide_type": "subslide"
    }
   },
   "source": [
    "<img src=\"images/clean_code_chart.png\" alt=\"Clean code chart\" width=\"1000\">\n"
   ]
  },
  {
   "cell_type": "markdown",
   "id": "fcba55ab",
   "metadata": {
    "slideshow": {
     "slide_type": "subslide"
    }
   },
   "source": [
    "### Follow the PEP 8 style guide\n",
    "[PEP 8](https://peps.python.org/pep-0008/) is a document that details the style conventions for Python code. Follow it to maintain consistency and readability in your code.\n"
   ]
  },
  {
   "cell_type": "code",
   "execution_count": 1,
   "id": "4f059315",
   "metadata": {
    "slideshow": {
     "slide_type": "-"
    }
   },
   "outputs": [],
   "source": [
    "# Incorrect\n",
    "def some_function(value1,value2):\n",
    "    return value1*value2"
   ]
  },
  {
   "cell_type": "code",
   "execution_count": 2,
   "id": "f11ab199",
   "metadata": {
    "slideshow": {
     "slide_type": "-"
    }
   },
   "outputs": [],
   "source": [
    "# Correct\n",
    "def some_function(value1, value2):\n",
    "    return value1 * value2"
   ]
  },
  {
   "cell_type": "markdown",
   "id": "42654096",
   "metadata": {
    "slideshow": {
     "slide_type": "subslide"
    }
   },
   "source": [
    "### The Zen of Python"
   ]
  },
  {
   "cell_type": "code",
   "execution_count": 3,
   "id": "42e36087",
   "metadata": {},
   "outputs": [
    {
     "name": "stdout",
     "output_type": "stream",
     "text": [
      "The Zen of Python, by Tim Peters\n",
      "\n",
      "Beautiful is better than ugly.\n",
      "Explicit is better than implicit.\n",
      "Simple is better than complex.\n",
      "Complex is better than complicated.\n",
      "Flat is better than nested.\n",
      "Sparse is better than dense.\n",
      "Readability counts.\n",
      "Special cases aren't special enough to break the rules.\n",
      "Although practicality beats purity.\n",
      "Errors should never pass silently.\n",
      "Unless explicitly silenced.\n",
      "In the face of ambiguity, refuse the temptation to guess.\n",
      "There should be one-- and preferably only one --obvious way to do it.\n",
      "Although that way may not be obvious at first unless you're Dutch.\n",
      "Now is better than never.\n",
      "Although never is often better than *right* now.\n",
      "If the implementation is hard to explain, it's a bad idea.\n",
      "If the implementation is easy to explain, it may be a good idea.\n",
      "Namespaces are one honking great idea -- let's do more of those!\n"
     ]
    }
   ],
   "source": [
    "import this"
   ]
  },
  {
   "cell_type": "markdown",
   "id": "8a7b512c",
   "metadata": {
    "slideshow": {
     "slide_type": "subslide"
    }
   },
   "source": [
    "### Name variables and functions descriptively\n",
    "Descriptive names make the code more readable and self-explanatory.\n"
   ]
  },
  {
   "cell_type": "code",
   "execution_count": 4,
   "id": "b50f8210",
   "metadata": {},
   "outputs": [],
   "source": [
    "# Incorrect\n",
    "def f(x):\n",
    "    return x**2"
   ]
  },
  {
   "cell_type": "code",
   "execution_count": 5,
   "id": "67f0bc29",
   "metadata": {},
   "outputs": [],
   "source": [
    "# Correct\n",
    "def square(number):\n",
    "    return number ** 2"
   ]
  },
  {
   "cell_type": "markdown",
   "id": "cd180af8",
   "metadata": {
    "slideshow": {
     "slide_type": "subslide"
    }
   },
   "source": [
    "### Keep the code DRY (Don't Repeat Yourself):\n",
    "If you find yourself repeating the same code in multiple parts of your program, consider putting that code into a function or method."
   ]
  },
  {
   "cell_type": "code",
   "execution_count": 6,
   "id": "b221eff0",
   "metadata": {},
   "outputs": [
    {
     "name": "stdout",
     "output_type": "stream",
     "text": [
      "Hello, user!\n",
      "Hello, admin!\n"
     ]
    }
   ],
   "source": [
    "# Incorrect\n",
    "print(\"Hello, user!\")\n",
    "print(\"Hello, admin!\")"
   ]
  },
  {
   "cell_type": "code",
   "execution_count": 7,
   "id": "14a2b2f0",
   "metadata": {},
   "outputs": [
    {
     "name": "stdout",
     "output_type": "stream",
     "text": [
      "Hello, user!\n",
      "Hello, admin!\n"
     ]
    }
   ],
   "source": [
    "# Correct\n",
    "def greet(user):\n",
    "    print(f\"Hello, {user}!\")\n",
    "\n",
    "greet(\"user\")\n",
    "greet(\"admin\")"
   ]
  },
  {
   "cell_type": "markdown",
   "id": "99a665fa",
   "metadata": {
    "slideshow": {
     "slide_type": "subslide"
    }
   },
   "source": [
    "### Divide the code into smaller functions or methods\n",
    "\n",
    "Functions or methods should do one thing and do it well. They should not be too long and should have a descriptive name that reflects what they do.\n"
   ]
  },
  {
   "cell_type": "code",
   "execution_count": 8,
   "id": "7133918d",
   "metadata": {},
   "outputs": [],
   "source": [
    "# Incorrect\n",
    "def arithmetic_operations(x, y):\n",
    "    print(\"Addition:\", x + y)\n",
    "    print(\"Subtraction:\", x - y)\n",
    "    print(\"Multiplication:\", x * y)\n",
    "    print(\"Division:\", x / y)"
   ]
  },
  {
   "cell_type": "code",
   "execution_count": 9,
   "id": "c8f8541e",
   "metadata": {
    "slideshow": {
     "slide_type": "subslide"
    }
   },
   "outputs": [
    {
     "name": "stdout",
     "output_type": "stream",
     "text": [
      "Addition: 8\n",
      "Subtraction: 2\n",
      "Multiplication: 15\n",
      "Division: 1.6666666666666667\n"
     ]
    }
   ],
   "source": [
    "# Correct\n",
    "def add(x, y):\n",
    "    return x + y\n",
    "\n",
    "def subtract(x, y):\n",
    "    return x - y\n",
    "\n",
    "def multiply(x, y):\n",
    "    return x * y\n",
    "\n",
    "def divide(x, y):\n",
    "    return x / y\n",
    "\n",
    "print(\"Addition:\", add(5, 3))\n",
    "print(\"Subtraction:\", subtract(5, 3))\n",
    "print(\"Multiplication:\", multiply(5, 3))\n",
    "print(\"Division:\", divide(5, 3))"
   ]
  },
  {
   "cell_type": "markdown",
   "id": "32acb8ff",
   "metadata": {
    "slideshow": {
     "slide_type": "subslide"
    }
   },
   "source": [
    "### Documentation and Comments\n",
    "\n",
    "It is important to document your code and also add comments where necessary. This will help other developers (or even yourself in the future) understand what the code does.\n"
   ]
  },
  {
   "cell_type": "code",
   "execution_count": 10,
   "id": "8b7d1bbe",
   "metadata": {},
   "outputs": [],
   "source": [
    "# Incorrect\n",
    "def add(x, y):\n",
    "    return x + y"
   ]
  },
  {
   "cell_type": "code",
   "execution_count": 11,
   "id": "70bc0b52",
   "metadata": {},
   "outputs": [],
   "source": [
    "# Correct\n",
    "def add(x, y):\n",
    "    \"\"\"\n",
    "    This function takes two numbers as arguments,\n",
    "    and returns their sum.\n",
    "    \n",
    "    Args:\n",
    "        x (int or float): The first number\n",
    "        y (int or float): The second number\n",
    "\n",
    "    Returns:\n",
    "        int or float: The sum of x and y\n",
    "    \"\"\"\n",
    "    return x + y"
   ]
  },
  {
   "cell_type": "markdown",
   "id": "ddd4f313",
   "metadata": {
    "slideshow": {
     "slide_type": "subslide"
    }
   },
   "source": [
    "### Code Refactoring\n",
    "\n",
    "Refactoring is the process of restructuring existing code, altering the code's structure without changing its behavior. The main goal of refactoring is to improve the code's structure, making it cleaner and more efficient.\n"
   ]
  },
  {
   "cell_type": "code",
   "execution_count": 12,
   "id": "1c4348d3",
   "metadata": {},
   "outputs": [],
   "source": [
    "# Antes da refatoração\n",
    "def calculate_age(birth_year):\n",
    "    current_year = 2023\n",
    "    age = current_year - birth_year\n",
    "    return age"
   ]
  },
  {
   "cell_type": "code",
   "execution_count": 13,
   "id": "e7f196ab",
   "metadata": {},
   "outputs": [],
   "source": [
    "# Depois da refatoração\n",
    "from datetime import datetime\n",
    "\n",
    "def calculate_age(birth_year):\n",
    "    current_year = datetime.now().year\n",
    "    return current_year - birth_year\n"
   ]
  },
  {
   "cell_type": "markdown",
   "id": "0ff8bc4c",
   "metadata": {
    "slideshow": {
     "slide_type": "subslide"
    }
   },
   "source": [
    "### Don't use \"magic numbers\"\n",
    "Magic numbers are strange numbers that appear in code, which do not have a clear meaning."
   ]
  },
  {
   "cell_type": "code",
   "execution_count": 14,
   "id": "bf104d29",
   "metadata": {},
   "outputs": [
    {
     "data": {
      "text/plain": [
       "8"
      ]
     },
     "execution_count": 14,
     "metadata": {},
     "output_type": "execute_result"
    }
   ],
   "source": [
    "from numpy import random\n",
    "\n",
    "# Incorrect\n",
    "random.randint(0, 36)  # what is 36 supposed to represent?"
   ]
  },
  {
   "cell_type": "code",
   "execution_count": 15,
   "id": "00a88488",
   "metadata": {},
   "outputs": [
    {
     "data": {
      "text/plain": [
       "5"
      ]
     },
     "execution_count": 15,
     "metadata": {},
     "output_type": "execute_result"
    }
   ],
   "source": [
    "# Correct\n",
    "ROULETTE_POCKET_COUNT = 36\n",
    "\n",
    "random.randint(0, ROULETTE_POCKET_COUNT)"
   ]
  },
  {
   "cell_type": "markdown",
   "id": "fced6585",
   "metadata": {
    "slideshow": {
     "slide_type": "subslide"
    }
   },
   "source": [
    "### Test Your Code\n",
    "\n",
    "Testing is a crucial part of software development. It helps identify bugs and ensures that your code functions as expected. Develop tests for every function and method you write.\n"
   ]
  },
  {
   "cell_type": "markdown",
   "id": "a94baf90",
   "metadata": {
    "slideshow": {
     "slide_type": "subslide"
    }
   },
   "source": [
    "### References\n",
    "\n",
    "1. TestDriven.io: [Clean Code in Python](https://testdriven.io/blog/clean-code-python/)\n",
    "2. PyBites: [Tips For Clean Code In Python](https://pybit.es/articles/tips-for-clean-code-in-python/)\n",
    "3. GitHub: [zedr/clean-code-python](https://github.com/zedr/clean-code-python)\n"
   ]
  },
  {
   "cell_type": "markdown",
   "id": "7a741d14",
   "metadata": {
    "slideshow": {
     "slide_type": "slide"
    }
   },
   "source": [
    "## Virtual Environments\n",
    "\n",
    "A virtual environment enables developers to create an isolated environment for installing and running packages and libraries.\n",
    "\n",
    "<img src=\"images/venv.webp\" alt=\"VENV\" width=\"500\">\n"
   ]
  },
  {
   "cell_type": "markdown",
   "id": "5044eeb8",
   "metadata": {
    "slideshow": {
     "slide_type": "subslide"
    }
   },
   "source": [
    "### What is a virtual environment\n",
    "\n",
    "* A virtual environment is an isolated Python environment that allows for dependency management at the project level. This prevents conflicts between packages and versions used in different projects.\n",
    "\n",
    "* Virtual environments enable developers to keep their project dependencies organized and isolated, avoiding conflicts and making it easier to reproduce and distribute the working environment.\n"
   ]
  },
  {
   "cell_type": "markdown",
   "id": "f30b567a",
   "metadata": {
    "slideshow": {
     "slide_type": "subslide"
    }
   },
   "source": [
    "### How to Create a Virtual Environment\n",
    "\n",
    "Creating a virtual environment is simple and can be done using the `venv` module, which comes pre-installed with Python 3.5 and later versions. To create a virtual environment, simply execute the command:\n",
    "\n",
    "`python3 -m venv environment_name`\n"
   ]
  },
  {
   "cell_type": "markdown",
   "id": "b03ea52e",
   "metadata": {
    "slideshow": {
     "slide_type": "subslide"
    }
   },
   "source": [
    "### Activating and Deactivating the Virtual Environment\n",
    "\n",
    "Activation:\n",
    "* To start using the virtual environment and install packages in it, you first need to activate it. In the terminal, use the command:\n",
    "\n",
    "    * for Unix/Linux: `source environment_name/bin/activate`\n",
    "    * for Windows: `venv\\Scripts\\activate`\n",
    "\n",
    "Deactivation:\n",
    "* When you are done working in the virtual environment, you can deactivate it using the `deactivate` command.\n"
   ]
  },
  {
   "cell_type": "markdown",
   "id": "a8975ea8",
   "metadata": {
    "slideshow": {
     "slide_type": "subslide"
    }
   },
   "source": [
    "### Installing Packages in the Virtual Environment\n",
    "\n",
    "With the virtual environment activated, you can install packages using `pip` just like you would globally. However, now the packages will be isolated within the virtual environment.\n",
    "\n",
    "Example code:\n",
    "`pip install numpy`\n",
    "\n",
    "If you have downloaded a project that includes a `requirements.txt` file, you can install all the required libraries by using the command `pip install -r requirements.txt`.\n"
   ]
  },
  {
   "cell_type": "markdown",
   "id": "c85cf56c",
   "metadata": {},
   "source": [
    "### Generating a file with the list of libraries\n",
    "\n",
    "To check the installed libraries, you can run the command `pip freeze`.\n",
    "\n",
    "To save the installed libraries in a file, use the command `pip freeze > requirements.txt`. This will create a `requirements.txt` file containing a list of all installed libraries and their versions. Sharing this file with others will allow them to easily replicate your virtual environment and its dependencies.\n"
   ]
  },
  {
   "cell_type": "markdown",
   "id": "72a7b8ff",
   "metadata": {
    "slideshow": {
     "slide_type": "subslide"
    }
   },
   "source": [
    "### References\n",
    "\n",
    "1. Real Python: [Python Virtual Environments: A Primer](https://realpython.com/python-virtual-environments-a-primer/)\n",
    "2. Dataquest: [A Complete Guide to Python Virtual Environments](https://www.dataquest.io/blog/a-complete-guide-to-python-virtual-environments/)\n",
    "3. Educative.io: [How to create a virtual environment in Python](https://www.educative.io/answers/how-to-create-a-virtual-environment-in-python)\n"
   ]
  },
  {
   "cell_type": "markdown",
   "id": "e6878e44",
   "metadata": {
    "slideshow": {
     "slide_type": "slide"
    }
   },
   "source": [
    "## IDEs\n",
    "\n",
    "An IDE (Integrated Development Environment) is a software application that provides a comprehensive set of tools and features to assist programmers in writing, debugging, and managing code.\n",
    "\n",
    "<img src=\"images/ide.webp\" alt=\"IDE\" width=\"500\">\n",
    "\n"
   ]
  },
  {
   "cell_type": "markdown",
   "id": "12fd1190",
   "metadata": {
    "slideshow": {
     "slide_type": "subslide"
    }
   },
   "source": [
    "### Why Use an IDE?\n",
    "\n",
    "1. **Auto-completion:** IDEs automatically suggest variable names, functions, classes, and packages as you type, saving time and reducing the chances of typing errors.\n",
    "\n",
    "2. **Integrated Debugging:** IDEs come with debuggers that allow you to step through your code execution, making it easier to identify and fix errors.\n",
    "\n",
    "3. **Syntax Highlighting:** IDEs help identify code elements (such as keywords, variables, strings, etc.) with different colors, making it easier to read and understand the code.\n",
    "\n",
    "4. **Real-time Error Detection:** Some IDEs provide real-time alerts for syntax errors or potential issues in the code as you type.\n",
    "\n",
    "5. **Integration with Version Control Tools:** Most IDEs have direct integration with version control tools like Git, allowing you to commit, pull, and push without leaving the IDE.\n",
    "\n",
    "6. **Ease of Refactoring:** Many IDEs have built-in tools to assist with code refactoring, such as renaming variables or methods throughout the entire project at once.\n"
   ]
  },
  {
   "cell_type": "markdown",
   "id": "68996217",
   "metadata": {
    "slideshow": {
     "slide_type": "subslide"
    }
   },
   "source": [
    "### Popular IDEs for Python\n",
    "\n",
    "* PyCharm\n",
    "* Visual Studio Code\n",
    "* Spyder\n",
    "* Jupyter Notebook\n"
   ]
  },
  {
   "cell_type": "markdown",
   "id": "22beefb9",
   "metadata": {
    "slideshow": {
     "slide_type": "subslide"
    }
   },
   "source": [
    "### Comparison\n",
    "\n",
    "| Feature | PyCharm | Visual Studio Code | Spyder | Jupyter Notebook |\n",
    "| --- | --- | --- | --- | --- |\n",
    "| **Auto-completion** | Yes | Yes | Yes | Partial |\n",
    "| **Integrated Debugging** | Yes | Yes | Yes | No |\n",
    "| **Git Integration** | Yes | Yes | Yes | No |\n",
    "| **Jupyter Notebook Support** | Yes | Yes (with extension) | Yes | Yes |\n",
    "| **Markdown Support** | Yes | Yes | No | Yes (in text cells) |\n",
    "| **Web Development** | Yes | Yes | No | No |\n",
    "| **Code Refactoring** | Yes | Yes (with extension) | Partial | No |\n",
    "| **Integrated Terminal** | Yes | Yes | Yes | Yes |\n",
    "| **Free** | Community Edition | Yes | Yes | Yes |\n",
    "| **Ease of Use** | Moderate | Moderate | Easy | Easy |\n"
   ]
  },
  {
   "cell_type": "markdown",
   "id": "314a131a",
   "metadata": {
    "slideshow": {
     "slide_type": "subslide"
    }
   },
   "source": [
    "### References\n",
    "\n",
    "1. Real Python: [Python IDEs and Code Editors (Guide)](https://realpython.com/python-ides-code-editors-guide)\n"
   ]
  },
  {
   "cell_type": "markdown",
   "id": "a51a7901",
   "metadata": {
    "slideshow": {
     "slide_type": "slide"
    }
   },
   "source": [
    "## Git\n",
    "\n",
    "Git is a widely used version control system in programming.\n",
    "\n",
    "<img src=\"images/git.png\" alt=\"GIT\" width=\"500\">\n"
   ]
  },
  {
   "cell_type": "markdown",
   "id": "a2f0dc80",
   "metadata": {
    "slideshow": {
     "slide_type": "subslide"
    }
   },
   "source": [
    "### What is Version Control?\n",
    "\n",
    "* Version control allows tracking and managing changes made to files over time.\n",
    "* With Git, you can track modifications, control versions, and collaborate on projects efficiently.\n"
   ]
  },
  {
   "cell_type": "markdown",
   "id": "541a3f2c",
   "metadata": {
    "slideshow": {
     "slide_type": "subslide"
    }
   },
   "source": [
    "### Benefits of Git\n",
    "\n",
    "Git brings several benefits to software development, including:\n",
    "* Efficient version control\n",
    "* Tracking of changes\n",
    "* Collaboration among developers\n",
    "* Ability to undo changes\n",
    "* Simplified branching and merging\n"
   ]
  },
  {
   "cell_type": "markdown",
   "id": "71a2e974",
   "metadata": {
    "slideshow": {
     "slide_type": "subslide"
    }
   },
   "source": [
    "### Installing Git\n",
    "\n",
    "* To start using Git, you need to install it on your computer.\n",
    "* Visit the official Git website (https://git-scm.com/) and follow the installation instructions appropriate for your operating system.\n"
   ]
  },
  {
   "cell_type": "markdown",
   "id": "5026e63a",
   "metadata": {
    "slideshow": {
     "slide_type": "subslide"
    }
   },
   "source": [
    "### Using Git\n",
    "\n",
    "[This](https://rogerdudler.github.io/git-guide/) is a really good beginner reference for Git. I cannot do better!\n",
    "\n"
   ]
  },
  {
   "cell_type": "markdown",
   "id": "a0c7d4a8",
   "metadata": {
    "slideshow": {
     "slide_type": "subslide"
    }
   },
   "source": [
    "### Git and GitHub\n",
    "\n",
    "**Git** is a tool for tracking and managing changes in your code, allowing you to work offline and collaborate with others.\n",
    "\n",
    "**GitHub** is a website that hosts Git repositories, providing a convenient platform for storing, sharing, and collaborating on code with additional features like issue tracking and pull requests.\n",
    "\n",
    "Other alternatives to GitHub include GitLab, Bitbucket, and SourceForge, which offer similar features for hosting and collaborating on Git repositories."
   ]
  },
  {
   "cell_type": "markdown",
   "id": "bf92101a",
   "metadata": {
    "slideshow": {
     "slide_type": "subslide"
    }
   },
   "source": [
    "### References\n",
    "\n",
    "1. Git - The Simple Guide: [Git - The Simple Guide](https://rogerdudler.github.io/git-guide/)\n",
    "2. Atlassian Git Tutorial: [Atlassian Git Tutorial](https://www.atlassian.com/git/tutorials/what-is-git)\n",
    "3. Pro Git Book: [Pro Git Book](https://git-scm.com/book/en/v2)"
   ]
  },
  {
   "cell_type": "markdown",
   "id": "c822b80a",
   "metadata": {
    "slideshow": {
     "slide_type": "slide"
    }
   },
   "source": [
    "## Final Tips\n"
   ]
  },
  {
   "cell_type": "markdown",
   "id": "a84a6d2f",
   "metadata": {
    "slideshow": {
     "slide_type": "subslide"
    }
   },
   "source": [
    "### ChatGPT\n",
    "\n",
    "* ChatGPT is an advanced language model that can assist in programming by providing code suggestions, helping debug issues, and providing explanations of programming concepts."
   ]
  },
  {
   "cell_type": "markdown",
   "id": "dcd96364",
   "metadata": {
    "slideshow": {
     "slide_type": "subslide"
    }
   },
   "source": [
    "Usages:\n",
    "\n",
    "1. **Basic Usage:** Interact with questions or requests related to programming. Example: \"How do I create a list in Python?\"\n",
    "\n",
    "2. **Code Suggestions:** Ask for code examples to get practical suggestions. Example: \"Can you show me an example of a function that adds two numbers in Python?\"\n",
    "\n",
    "3. **Explaining Concepts:** Request explanations of specific programming concepts. Example: \"What is a list in Python and how does it work?\"\n",
    "\n",
    "4. **Debugging Code:** Provide snippets of code with errors to receive help in identifying and fixing issues. Example: \"I'm getting a 'NameError' when trying to execute this code. What could be wrong?\".\n"
   ]
  },
  {
   "cell_type": "markdown",
   "id": "225ff53c",
   "metadata": {
    "slideshow": {
     "slide_type": "subslide"
    }
   },
   "source": [
    "5. **Learning New Features:** Ask about how to use specific features, such as external libraries. Example: \"How do I use the pandas library for data manipulation in Python?\"\n",
    "\n",
    "6. **Code Refactoring:** Seek guidance on how to improve or restructure your existing code. Example: \"How can I refactor this code snippet to make it more efficient?\"\n",
    "\n",
    "7. **Discussions on Best Practices:** Request sharing of best practices in specific situations, such as naming variables in Python. Example: \"What are the best practices for naming variables in Python and why?\".\n"
   ]
  },
  {
   "cell_type": "markdown",
   "id": "3b3fb719",
   "metadata": {
    "slideshow": {
     "slide_type": "subslide"
    }
   },
   "source": [
    "Tips to Improve Usage:\n",
    "\n",
    "1. **Provide Relevant Context**: When sharing code, provide only the relevant part to get accurate help.\n",
    "\n",
    "2. **Clearly Explain the Problem**: Provide details and explain what you are trying to accomplish and what the expected outcome is.\n",
    "\n",
    "3. **Be Aware of Token Limit**: Remember that there is a token limit per prompt (usually 4096). Keep your requests within this limit.\n",
    "\n",
    "4. **Simplify the Question**: Break down complex problems into smaller steps and formulate clear and direct questions.\n",
    "\n",
    "**Token** is a basic unit of text in a language model. It can be a letter, a number, a word, or a character. Models have a limit on the number of tokens they can process in each interaction. It's important to stay within this limit to get accurate results.\n"
   ]
  },
  {
   "cell_type": "markdown",
   "id": "30ad1c7b",
   "metadata": {
    "slideshow": {
     "slide_type": "subslide"
    }
   },
   "source": [
    "### Code Formatters and Linters\n",
    "\n",
    "**Code formatters** are tools that automatically analyze and adjust the formatting of code.The most commonly used code formatter for Python is [Black](https://github.com/psf/black).\n",
    "\n",
    "\n",
    "A **linter** is a code analysis tool that is often integrated into modern IDEs, providing real-time feedback on coding errors, potential bugs, and style violations as you write code."
   ]
  }
 ],
 "metadata": {
  "celltoolbar": "Slideshow",
  "kernelspec": {
   "display_name": "Python 3 (ipykernel)",
   "language": "python",
   "name": "python3"
  },
  "language_info": {
   "codemirror_mode": {
    "name": "ipython",
    "version": 3
   },
   "file_extension": ".py",
   "mimetype": "text/x-python",
   "name": "python",
   "nbconvert_exporter": "python",
   "pygments_lexer": "ipython3",
   "version": "3.11.3"
  }
 },
 "nbformat": 4,
 "nbformat_minor": 5
}
